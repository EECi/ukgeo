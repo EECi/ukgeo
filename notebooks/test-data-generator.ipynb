{
 "cells": [
  {
   "cell_type": "markdown",
   "metadata": {},
   "source": [
    "# Test Data Generator\n",
    "\n",
    "This notebook generates the test input used in the unit tests."
   ]
  },
  {
   "cell_type": "code",
   "execution_count": null,
   "metadata": {},
   "outputs": [],
   "source": [
    "from shapely.geometry import Point\n",
    "import geopandas as gpd\n",
    "\n",
    "%matplotlib inline"
   ]
  },
  {
   "cell_type": "code",
   "execution_count": null,
   "metadata": {},
   "outputs": [],
   "source": [
    "PATH_TO_HB0101 = '../tests/resources/productionblockfiles/HB0101-something.shp'\n",
    "PATH_TO_HB0102 = '../tests/resources/productionblockfiles/somethingHB0102more.shp'\n",
    "PATH_TO_UK_BUILDINGS_DATA = '../tests/resources/ukbuildings.shp'"
   ]
  },
  {
   "cell_type": "code",
   "execution_count": null,
   "metadata": {},
   "outputs": [],
   "source": [
    "CRS = {'datum': 'OSGB36',\n",
    "       'k': 0.9996012717,\n",
    "       'lat_0': 49,\n",
    "       'lon_0': -2,\n",
    "       'no_defs': True,\n",
    "       'proj': 'tmerc',\n",
    "       'units': 'm',\n",
    "       'x_0': 400000,\n",
    "       'y_0': -100000}"
   ]
  },
  {
   "cell_type": "markdown",
   "metadata": {},
   "source": [
    "## UKMap"
   ]
  },
  {
   "cell_type": "code",
   "execution_count": null,
   "metadata": {},
   "outputs": [],
   "source": [
    "def generate_HB0101():\n",
    "    geometries = [Point(x, y) for x in range(500000, 504000, 1000) for y in range(100000, 104000, 1000)]\n",
    "    test_data = gpd.GeoDataFrame(\n",
    "        geometry=geometries,\n",
    "        crs=CRS\n",
    "    )\n",
    "    test_data.plot()\n",
    "    test_data.to_file(PATH_TO_HB0101)\n",
    "    \n",
    "    \n",
    "def generate_HB0102():\n",
    "    geometries = [Point(x, y) for x in range(500000, 504000, 1000) for y in range(105000, 109000, 1000)]\n",
    "    test_data = gpd.GeoDataFrame(\n",
    "        geometry=geometries,\n",
    "        crs=CRS\n",
    "    )\n",
    "    test_data.plot()\n",
    "    test_data.to_file(PATH_TO_HB0102)\n",
    "    "
   ]
  },
  {
   "cell_type": "code",
   "execution_count": null,
   "metadata": {},
   "outputs": [],
   "source": [
    "generate_HB0101()\n",
    "generate_HB0102()"
   ]
  },
  {
   "cell_type": "markdown",
   "metadata": {},
   "source": [
    "## UKBuildings"
   ]
  },
  {
   "cell_type": "code",
   "execution_count": null,
   "metadata": {},
   "outputs": [],
   "source": [
    "def generate_uk_buildings_data():\n",
    "    geometries = [Point(x, y) for x in range(500000, 590000, 10000) for y in range(100000, 190000, 10000)]\n",
    "    test_data = gpd.GeoDataFrame(\n",
    "        geometry=geometries,\n",
    "        crs=CRS\n",
    "    )\n",
    "    test_data.plot()\n",
    "    test_data.to_file(PATH_TO_UK_BUILDINGS_DATA)"
   ]
  },
  {
   "cell_type": "code",
   "execution_count": null,
   "metadata": {},
   "outputs": [],
   "source": [
    "generate_uk_buildings_data()"
   ]
  },
  {
   "cell_type": "code",
   "execution_count": null,
   "metadata": {},
   "outputs": [],
   "source": []
  }
 ],
 "metadata": {
  "kernelspec": {
   "display_name": "Python [conda env:dev]",
   "language": "python",
   "name": "conda-env-dev-py"
  },
  "language_info": {
   "codemirror_mode": {
    "name": "ipython",
    "version": 3
   },
   "file_extension": ".py",
   "mimetype": "text/x-python",
   "name": "python",
   "nbconvert_exporter": "python",
   "pygments_lexer": "ipython3",
   "version": "3.6.1"
  }
 },
 "nbformat": 4,
 "nbformat_minor": 2
}
